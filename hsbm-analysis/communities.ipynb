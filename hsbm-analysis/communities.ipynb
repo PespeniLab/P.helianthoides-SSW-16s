{
 "cells": [
  {
   "cell_type": "code",
   "execution_count": 83,
   "metadata": {},
   "outputs": [],
   "source": [
    "from graph_tool.all import *\n",
    "import numpy as np\n",
    "import pandas as pd\n",
    "import matplotlib"
   ]
  },
  {
   "cell_type": "code",
   "execution_count": null,
   "metadata": {},
   "outputs": [],
   "source": [
    "g = Graph()\n",
    "v1 = g.add_vertex()\n",
    "v2 = g.add_vertex()\n",
    "e = g.add_edge(v1, v2)"
   ]
  },
  {
   "cell_type": "code",
   "execution_count": null,
   "metadata": {},
   "outputs": [],
   "source": [
    "graph_draw(g, vertex_text=g.vertex_index)"
   ]
  },
  {
   "cell_type": "code",
   "execution_count": null,
   "metadata": {},
   "outputs": [],
   "source": [
    "g = collection.data[\"celegansneural\"]\n",
    "print(g)"
   ]
  },
  {
   "cell_type": "code",
   "execution_count": null,
   "metadata": {},
   "outputs": [],
   "source": [
    "state = minimize_nested_blockmodel_dl(g)\n",
    "S1 = state.entropy()\n",
    "mcmc_anneal(state, beta_range=(1, 10), niter=1000, mcmc_equilibrate_args=dict(force_niter=10))\n",
    "state.entropy() - S1"
   ]
  },
  {
   "cell_type": "code",
   "execution_count": null,
   "metadata": {},
   "outputs": [],
   "source": [
    "state.draw()"
   ]
  },
  {
   "cell_type": "code",
   "execution_count": null,
   "metadata": {},
   "outputs": [],
   "source": [
    "g = load_graph(\"level7.gt\")\n",
    "g"
   ]
  },
  {
   "cell_type": "code",
   "execution_count": null,
   "metadata": {},
   "outputs": [],
   "source": [
    "abun = pd.read_csv(\"level-7.csv\", index_col=\"index\")\n",
    "otus = np.array([col for col in abun.columns if \"k__\" in col])\n",
    "samples = np.array(abun.index)"
   ]
  },
  {
   "cell_type": "code",
   "execution_count": null,
   "metadata": {},
   "outputs": [],
   "source": [
    "sp = [c for c in abun.columns if \"k__\" in c]\n",
    "len([col for col in sp if sum(abun[col]) > 100])"
   ]
  },
  {
   "cell_type": "code",
   "execution_count": null,
   "metadata": {},
   "outputs": [],
   "source": [
    "g = Graph(directed=False)\n",
    "g.add_vertex(len(samples) + len(otus))"
   ]
  },
  {
   "cell_type": "code",
   "execution_count": null,
   "metadata": {},
   "outputs": [],
   "source": [
    "name = g.vp.name = g.new_vertex_property(\"string\", np.append(samples, otus))\n",
    "part = g.vp.part = g.new_vertex_property(\"int\", np.append(np.ones(len(samples)), np.zeros(len(otus))))\n",
    "counts = g.ep.counts = g.new_edge_property(\"double\")"
   ]
  },
  {
   "cell_type": "code",
   "execution_count": null,
   "metadata": {},
   "outputs": [],
   "source": [
    "for si in range(len(samples)):\n",
    "    # v = g.add_vertex()\n",
    "    # name[v] = s\n",
    "    for ti in range(len(samples), len(samples) + len(otus)):\n",
    "        # w = g.add_vertex()\n",
    "        c = int(abun.loc[name[si], name[ti]])\n",
    "        if c > 0:\n",
    "            e = g.add_edge(si, ti)\n",
    "            counts[e] = np.log(c) + 1"
   ]
  },
  {
   "cell_type": "code",
   "execution_count": null,
   "metadata": {},
   "outputs": [],
   "source": [
    "g.save(\"level7.gt\")"
   ]
  },
  {
   "cell_type": "markdown",
   "metadata": {},
   "source": [
    "## Fit the hSBM"
   ]
  },
  {
   "cell_type": "code",
   "execution_count": null,
   "metadata": {},
   "outputs": [],
   "source": [
    "state_args = {\"clabel\": part, \"pclabel\": part, \"eweight\": counts, \"deg_corr\": True}\n",
    "state_tmp = minimize_nested_blockmodel_dl(g, state_args=state_args)"
   ]
  },
  {
   "cell_type": "code",
   "execution_count": null,
   "metadata": {},
   "outputs": [],
   "source": [
    "S1 = state_tmp.entropy()\n",
    "\n",
    "for i in range(100): # this should be sufficiently large\n",
    "    state_tmp.multiflip_mcmc_sweep(beta=np.inf, niter=10)\n",
    "\n",
    "S2 = state_tmp.entropy()\n",
    "print(\"Improvement:\", S2 - S1)"
   ]
  },
  {
   "cell_type": "code",
   "execution_count": null,
   "metadata": {},
   "outputs": [],
   "source": [
    "L = 0\n",
    "for s in state_tmp.levels:\n",
    "    L += 1\n",
    "    if s.get_nonempty_B() == 2:\n",
    "        break\n",
    "state = state_tmp.copy(bs=state_tmp.get_bs()[:L] + [np.zeros(1)])"
   ]
  },
  {
   "cell_type": "code",
   "execution_count": null,
   "metadata": {},
   "outputs": [],
   "source": [
    "\n",
    "state.draw(\n",
    "    layout=\"bipartite\", output=\"tmp.pdf\", subsample_edges=1000, hshortcuts=1, \n",
    "    # edge_pen_width=prop_to_size(g.ep.counts, ma=4, power=1.2, log=False), \n",
    "    edge_pen_width=1.5,\n",
    "    vertex_size=1.6,\n",
    "    vertex_fill_color=part,\n",
    "    vertex_color=part,\n",
    "    edge_color=prop_to_size(counts, ma=10, power=1),\n",
    "    ecmap=(cm.inferno, .4), edge_gradient=[], eorder=counts\n",
    ")"
   ]
  },
  {
   "cell_type": "code",
   "execution_count": null,
   "metadata": {},
   "outputs": [],
   "source": [
    "# levels = state.project_partition()\n",
    "from collections import defaultdict\n",
    "# group_id = nested_contiguous_map(state.get_bs())[1]\n",
    "group_id = state.get_levels()[4].get_blocks().a\n",
    "group_names = defaultdict(lambda: list())\n",
    "for v, i in enumerate(group_id):\n",
    "    group_names[i].append(name[v])"
   ]
  },
  {
   "cell_type": "code",
   "execution_count": null,
   "metadata": {},
   "outputs": [],
   "source": [
    "membership = dict()\n",
    "for lvl in range(4):\n",
    "   state_proj = state.project_level(lvl)\n",
    "   mem = defaultdict(lambda: list())\n",
    "   for v, i in enumerate(state_proj.get_blocks().a):\n",
    "      mem[i].append(name[v])\n",
    "   membership[lvl] = list(mem.values())"
   ]
  },
  {
   "cell_type": "code",
   "execution_count": null,
   "metadata": {},
   "outputs": [],
   "source": [
    "membership"
   ]
  },
  {
   "cell_type": "code",
   "execution_count": null,
   "metadata": {},
   "outputs": [],
   "source": [
    "import pickle\n",
    "with open(\"module-members.pickle\", \"wb\") as f:\n",
    "    pickle.dump(membership, f)"
   ]
  },
  {
   "cell_type": "markdown",
   "metadata": {},
   "source": [
    "### Get two models ((not) degree corrected) using `seastar_hsbm` class"
   ]
  },
  {
   "cell_type": "code",
   "execution_count": 1,
   "metadata": {},
   "outputs": [
    {
     "data": {
      "text/plain": [
       "<Graph object, undirected, with 349 vertices and 3954 edges, 2 internal vertex properties, 1 internal edge property, at 0x7ff9c14a3f40>"
      ]
     },
     "execution_count": 1,
     "metadata": {},
     "output_type": "execute_result"
    }
   ],
   "source": [
    "from seastar_hsbm_inference import seastar_hsbm\n",
    "\n",
    "comm = seastar_hsbm()\n",
    "comm.make_graph(\"level-7.csv\")\n",
    "comm.g\n",
    "# comm.fit(deg_corr=False)"
   ]
  },
  {
   "cell_type": "code",
   "execution_count": 84,
   "metadata": {},
   "outputs": [],
   "source": [
    "# comm.save_model(\"hsbm-tmp-fit\")\n",
    "comm = seastar_hsbm()\n",
    "comm.load_model(\"hsbm-fit2.pickle\")\n",
    "g = comm.state.g"
   ]
  },
  {
   "cell_type": "code",
   "execution_count": 75,
   "metadata": {},
   "outputs": [],
   "source": [
    "ord = g.vp.ord = g.new_vertex_property(\"int\", comm.state.project_level(2).get_blocks().a)\n",
    "text = g.vp.text = g.new_vertex_property(\"string\", comm.state.project_level(1).get_blocks().a)"
   ]
  },
  {
   "cell_type": "code",
   "execution_count": 81,
   "metadata": {},
   "outputs": [],
   "source": [
    "part = comm.g.vp.part\n",
    "counts = comm.g.ep.counts\n",
    "blue = list(matplotlib.colors.ColorConverter().to_rgba(\"#729fcf\"))\n",
    "blue[-1] = 0.8\n",
    "\n",
    "import graph_tool.all as gt\n",
    "pos = gt.draw_hierarchy(\n",
    "    comm.state,\n",
    "    layout=\"bipartite\", output=\"hsbm-fit-final.svg\", subsample_edges=400, hshortcuts=1, \n",
    "    # edge_pen_width=prop_to_size(g.ep.counts, ma=4, power=1.2, log=False), \n",
    "    edge_pen_width=1.5,\n",
    "    vertex_size=1.8,\n",
    "    hvertex_size = 6.5,\n",
    "    # vertex_fill_color=[0.6, 0.6, 0.6, 0.7],\n",
    "    # vertex_color=[0.6, 0.6, 0.6, 0.7],\n",
    "    vertex_fill_color=ord,\n",
    "    vertex_color=ord,\n",
    "    hvertex_color=[1, 1, 1, 0.4],\n",
    "    hedge_color = blue,\n",
    "    hvertex_fill_color = blue,\n",
    "    # vertex_text=text,\n",
    "    # vertex_text_offset=[-0.05, 0.0],\n",
    "    edge_color=gt.prop_to_size(counts, ma=10, power=1),\n",
    "    ecmap=(matplotlib.cm.inferno, 0.4), edge_gradient=[], eorder=counts\n",
    ")"
   ]
  },
  {
   "cell_type": "code",
   "execution_count": 91,
   "metadata": {},
   "outputs": [
    {
     "data": {
      "text/plain": [
       "-0.017728604567703206"
      ]
     },
     "execution_count": 91,
     "metadata": {},
     "output_type": "execute_result"
    }
   ],
   "source": [
    "g = comm.state.get_bstack()[0]\n",
    "modularity(g, g.vp.b, weight=g.ep.count)"
   ]
  },
  {
   "cell_type": "code",
   "execution_count": null,
   "metadata": {},
   "outputs": [],
   "source": [
    "from collections import defaultdict\n",
    "membership = dict()\n",
    "for lvl in range(len(comm.state.levels) - 1):\n",
    "    state_proj = comm.state.project_level(lvl)\n",
    "    mem = defaultdict(lambda: list())\n",
    "    for v, i in enumerate(state_proj.get_blocks().a):\n",
    "        mem[str(i)].append(comm.g.vp.name[v])\n",
    "    membership[lvl] = dict(mem)"
   ]
  },
  {
   "cell_type": "code",
   "execution_count": null,
   "metadata": {},
   "outputs": [],
   "source": [
    "import pickle\n",
    "with open(\"tmp.pickle\", 'wb') as f:\n",
    "    pickle.dump(membership, f)"
   ]
  },
  {
   "cell_type": "code",
   "execution_count": null,
   "metadata": {},
   "outputs": [],
   "source": []
  }
 ],
 "metadata": {
  "interpreter": {
   "hash": "fcf8e71764d671da47539c207048d1d3bd63a2dba5538c3cb62d59f79c639b50"
  },
  "kernelspec": {
   "display_name": "Python 3.10.4 ('gt')",
   "language": "python",
   "name": "python3"
  },
  "language_info": {
   "codemirror_mode": {
    "name": "ipython",
    "version": 3
   },
   "file_extension": ".py",
   "mimetype": "text/x-python",
   "name": "python",
   "nbconvert_exporter": "python",
   "pygments_lexer": "ipython3",
   "version": "3.10.4"
  },
  "orig_nbformat": 4
 },
 "nbformat": 4,
 "nbformat_minor": 2
}
